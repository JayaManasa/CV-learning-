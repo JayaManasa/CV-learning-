{
  "nbformat": 4,
  "nbformat_minor": 0,
  "metadata": {
    "colab": {
      "provenance": [],
      "authorship_tag": "ABX9TyPtQIgSL7C7GIzPe04Hro2I",
      "include_colab_link": true
    },
    "kernelspec": {
      "name": "python3",
      "display_name": "Python 3"
    },
    "language_info": {
      "name": "python"
    }
  },
  "cells": [
    {
      "cell_type": "markdown",
      "metadata": {
        "id": "view-in-github",
        "colab_type": "text"
      },
      "source": [
        "<a href=\"https://colab.research.google.com/github/JayaManasa/CV-learning-/blob/main/KNN.ipynb\" target=\"_parent\"><img src=\"https://colab.research.google.com/assets/colab-badge.svg\" alt=\"Open In Colab\"/></a>"
      ]
    },
    {
      "cell_type": "code",
      "execution_count": 1,
      "metadata": {
        "colab": {
          "base_uri": "https://localhost:8080/",
          "height": 430
        },
        "id": "-ui-m4Hh4Hcw",
        "outputId": "cef1981a-e274-4259-afe6-27049059bb01"
      },
      "outputs": [
        {
          "output_type": "display_data",
          "data": {
            "text/plain": [
              "<Figure size 640x480 with 1 Axes>"
            ],
            "image/png": "[encoded data removed]"
          },
          "metadata": {}
        }
      ],
      "source": [
        "import numpy as np\n",
        "import matplotlib.pyplot as plt\n",
        "\n",
        "# Generate random data for two classes\n",
        "np.random.seed(0)\n",
        "class_0 = np.random.randn(50, 2)\n",
        "class_1 = np.random.randn(50, 2) + [3, 3]\n",
        "\n",
        "# Visualize the data\n",
        "plt.scatter(class_0[:, 0], class_0[:, 1], color='red', label='Class 0')\n",
        "plt.scatter(class_1[:, 0], class_1[:, 1], color='blue', label='Class 1')\n",
        "plt.legend()\n",
        "plt.show()\n"
      ]
    },
    {
      "cell_type": "markdown",
      "source": [
        "k sets number of neighbors to be considered.\n",
        "fit: soting the training data and doesn't build any model during training phase.\n",
        "For each data point in X, it predicts a label.Compute the Euclidean distance between x and each training point.\n",
        "Sort these distances and get indices of the k smallest values.\n",
        "Get the labels for these k indices.\n",
        "Count the number of occurrences of each label within these k labels and return the most frequent one.\n"
      ],
      "metadata": {
        "id": "GGDHSOzz4dLv"
      }
    },
    {
      "cell_type": "code",
      "source": [
        "class KNN:\n",
        "    def __init__(self, k=3):\n",
        "        self.k = k\n",
        "\n",
        "    def fit(self, X, y):\n",
        "        self.X_train = X\n",
        "        self.y_train = y\n",
        "\n",
        "    def predict(self, X):\n",
        "        y_pred = [self._predict(x) for x in X]\n",
        "        return np.array(y_pred)\n",
        "\n",
        "    def _predict(self, x):\n",
        "        # Compute distances\n",
        "        distances = [np.linalg.norm(x - x_train) for x_train in self.X_train]\n",
        "        # Get k nearest samples, labels\n",
        "        k_indices = np.argsort(distances)[:self.k]\n",
        "        k_nearest_labels = [self.y_train[i] for i in k_indices]\n",
        "        # Majority vote\n",
        "        most_common = np.bincount(k_nearest_labels).argmax()\n",
        "        return most_common\n"
      ],
      "metadata": {
        "id": "d0aQJwJT4Shu"
      },
      "execution_count": 2,
      "outputs": []
    },
    {
      "cell_type": "code",
      "source": [
        "from sklearn.model_selection import train_test_split\n",
        "\n",
        "# Prepare data\n",
        "X = np.vstack((class_0, class_1))\n",
        "y = np.array([0]*50 + [1]*50)\n",
        "\n",
        "# Splitting the data\n",
        "X_train, X_test, y_train, y_test = train_test_split(X, y, test_size=0.2, random_state=0)\n",
        "\n",
        "# Using the KNN classifier\n",
        "knn = KNN(k=3)\n",
        "knn.fit(X_train, y_train)\n",
        "predictions = knn.predict(X_test)\n",
        "\n",
        "# Accuracy\n",
        "accuracy = np.mean(predictions == y_test)\n",
        "print(f\"Accuracy: {accuracy * 100:.2f}%\")\n"
      ],
      "metadata": {
        "colab": {
          "base_uri": "https://localhost:8080/"
        },
        "id": "tN0pejpT54wZ",
        "outputId": "be818d50-bc4f-48c0-ac39-3d5228538301"
      },
      "execution_count": 3,
      "outputs": [
        {
          "output_type": "stream",
          "name": "stdout",
          "text": [
            "Accuracy: 100.00%\n"
          ]
        }
      ]
    },
    {
      "cell_type": "code",
      "source": [
        "import numpy as np\n",
        "import tensorflow as tf\n",
        "from sklearn.model_selection import train_test_split\n",
        "\n",
        "# Loading the dataset\n",
        "mnist = tf.keras.datasets.mnist\n",
        "(train_images, train_labels), (test_images, test_labels) = mnist.load_data()\n",
        "\n",
        "# Flatten and normalize the images\n",
        "train_images = train_images.reshape(-1, 28*28) / 255.0\n",
        "test_images = test_images.reshape(-1, 28*28) / 255.0\n",
        "\n",
        "# For efficiency, let's use a subset\n",
        "train_images, _, train_labels, _ = train_test_split(train_images, train_labels, train_size=0.1, random_state=0)\n",
        "test_images, _, test_labels, _ = train_test_split(test_images, test_labels, train_size=0.1, random_state=0)\n"
      ],
      "metadata": {
        "colab": {
          "base_uri": "https://localhost:8080/"
        },
        "id": "gPRrd5x96u9a",
        "outputId": "f65a49f6-1044-488f-aedd-e63ba7920409"
      },
      "execution_count": 4,
      "outputs": [
        {
          "output_type": "stream",
          "name": "stdout",
          "text": [
            "Downloading data from https://storage.googleapis.com/tensorflow/tf-keras-datasets/mnist.npz\n",
            "11490434/11490434 [==============================] - 0s 0us/step\n"
          ]
        }
      ]
    },
    {
      "cell_type": "code",
      "source": [
        "class KNN:\n",
        "    def __init__(self, k=3):\n",
        "        self.k = k\n",
        "\n",
        "    def fit(self, X, y):\n",
        "        self.X_train = X\n",
        "        self.y_train = y\n",
        "\n",
        "    def predict(self, X):\n",
        "        y_pred = [self._predict(x) for x in X]\n",
        "        return np.array(y_pred)\n",
        "\n",
        "    def _predict(self, x):\n",
        "        distances = [np.linalg.norm(x - x_train) for x_train in self.X_train]\n",
        "        k_indices = np.argsort(distances)[:self.k]\n",
        "        k_nearest_labels = [self.y_train[i] for i in k_indices]\n",
        "        most_common = np.bincount(k_nearest_labels).argmax()\n",
        "        return most_common\n"
      ],
      "metadata": {
        "id": "gxL_s4DG7Dx-"
      },
      "execution_count": 5,
      "outputs": []
    },
    {
      "cell_type": "code",
      "source": [
        "# Using KNN for prediction\n",
        "knn = KNN(k=3)\n",
        "knn.fit(train_images, train_labels)\n",
        "predictions = knn.predict(test_images[:100])  # Limiting to 100 test samples for speed\n",
        "\n",
        "# Calculating accuracy\n",
        "accuracy = np.mean(predictions == test_labels[:100])\n",
        "print(f\"Accuracy: {accuracy * 100:.2f}%\")\n"
      ],
      "metadata": {
        "colab": {
          "base_uri": "https://localhost:8080/"
        },
        "id": "Or5-JAZNAB0u",
        "outputId": "6035263d-cfe5-40c5-f76f-ed0b70554c7c"
      },
      "execution_count": 6,
      "outputs": [
        {
          "output_type": "stream",
          "name": "stdout",
          "text": [
            "Accuracy: 92.00%\n"
          ]
        }
      ]
    }
  ]
}