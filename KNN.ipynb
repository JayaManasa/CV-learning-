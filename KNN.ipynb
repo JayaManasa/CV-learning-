{
 "cells": [
  {
   "cell_type": "code",
   "execution_count": null,
   "metadata": {
    "collapsed": true
   },
   "outputs": [],
   "source": [
    "import numpy as np\n",
    "import matplotlib.pyplot as plt\n",
    "\n",
    "# Generate random data for two classes\n",
    "np.random.seed(0)\n",
    "class_0 = np.random.randn(50, 2)\n",
    "class_1 = np.random.randn(50, 2) + [3, 3]\n",
    "\n",
    "# Visualize the data\n",
    "plt.scatter(class_0[:, 0], class_0[:, 1], color='red', label='Class 0')\n",
    "plt.scatter(class_1[:, 0], class_1[:, 1], color='blue', label='Class 1')\n",
    "plt.legend()\n",
    "plt.show()\n"
   ]
  }
 ],
 "metadata": {
  "kernelspec": {
   "display_name": "Python 3",
   "language": "python",
   "name": "python3"
  },
  "language_info": {
   "codemirror_mode": {
    "name": "ipython",
    "version": 2
   },
   "file_extension": ".py",
   "mimetype": "text/x-python",
   "name": "python",
   "nbconvert_exporter": "python",
   "pygments_lexer": "ipython2",
   "version": "2.7.6"
  }
 },
 "nbformat": 4,
 "nbformat_minor": 0
}
